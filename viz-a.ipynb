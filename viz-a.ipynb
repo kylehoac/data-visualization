{
 "metadata": {
  "language_info": {
   "codemirror_mode": {
    "name": "ipython",
    "version": 3
   },
   "file_extension": ".py",
   "mimetype": "text/x-python",
   "name": "python",
   "nbconvert_exporter": "python",
   "pygments_lexer": "ipython3",
   "version": "3.9.5"
  },
  "orig_nbformat": 2,
  "kernelspec": {
   "name": "python3",
   "display_name": "Python 3.9.5 64-bit",
   "metadata": {
    "interpreter": {
     "hash": "f34db5068c3a220b80e343856c6dcc060c77b2d224a7731ded42739786fd50a0"
    }
   }
  }
 },
 "nbformat": 4,
 "nbformat_minor": 2,
 "cells": [
  {
   "cell_type": "code",
   "execution_count": null,
   "metadata": {},
   "outputs": [],
   "source": [
    "import pandas as pd\n",
    "import numpy as numpy\n",
    "import matplotlib.pyplot as plt\n",
    "import seaborn as sns\n",
    "from sklearn.linear_model import LinearRegression\n",
    "from sklearn.model_selection import train_test_split"
   ]
  },
  {
   "cell_type": "code",
   "execution_count": null,
   "metadata": {},
   "outputs": [],
   "source": [
    "df = sns.load_dataset('titanic')"
   ]
  },
  {
   "source": [
    "# Titanic Data Frame"
   ],
   "cell_type": "markdown",
   "metadata": {}
  },
  {
   "cell_type": "code",
   "execution_count": null,
   "metadata": {},
   "outputs": [],
   "source": [
    "graph = sns.barplot(x=\"alive\",y=\"fare\",hue=\"class\",data=df)"
   ]
  },
  {
   "source": [
    "Above shows that on average, the more a passenger spent, the more likely they were to survive. This is more noticable in the first class passengers, whereas the survival rate of second and third class passengers was basically the same no matter how much they spent"
   ],
   "cell_type": "markdown",
   "metadata": {}
  },
  {
   "cell_type": "code",
   "execution_count": null,
   "metadata": {},
   "outputs": [],
   "source": [
    "graph = sns.barplot(x=\"sex\",y=\"survived\",hue=\"class\",data=df)"
   ]
  },
  {
   "source": [
    "Females were much more likely to survive than males regardless of class. This is likely due to the fact that women and children were the first ones allowed on the rafts"
   ],
   "cell_type": "markdown",
   "metadata": {}
  },
  {
   "cell_type": "code",
   "execution_count": null,
   "metadata": {},
   "outputs": [],
   "source": [
    "X = df['alive']\n",
    "y = df['adult_male']\n",
    "graph = sns.barplot(x=\"alive\",y=\"adult_male\",hue=\"class\",data=df)"
   ]
  },
  {
   "source": [
    "Adult men had a low chance of living, and their chances didn't depend as much on their class. This is proven by the fact that third class adult men had roughly the same chance of survival as those in the first class, and more first class men died than the other two classes"
   ],
   "cell_type": "markdown",
   "metadata": {}
  },
  {
   "source": [
    "# Car Crashes Data Frame"
   ],
   "cell_type": "markdown",
   "metadata": {}
  },
  {
   "cell_type": "code",
   "execution_count": null,
   "metadata": {},
   "outputs": [],
   "source": [
    "crash_df"
   ]
  },
  {
   "cell_type": "code",
   "execution_count": null,
   "metadata": {},
   "outputs": [],
   "source": [
    "crash_df['ins_premium'].mean()"
   ]
  },
  {
   "source": [
    "The average insurance premium is around $886"
   ],
   "cell_type": "markdown",
   "metadata": {}
  },
  {
   "cell_type": "code",
   "execution_count": null,
   "metadata": {},
   "outputs": [],
   "source": []
  }
 ]
}